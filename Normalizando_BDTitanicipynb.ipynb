{
  "nbformat": 4,
  "nbformat_minor": 0,
  "metadata": {
    "colab": {
      "provenance": [],
      "collapsed_sections": [
        "x-0jqMNe4OBH",
        "mpkKviGfnYSc",
        "055prcUGo0mi"
      ],
      "include_colab_link": true
    },
    "kernelspec": {
      "name": "python3",
      "display_name": "Python 3"
    },
    "language_info": {
      "name": "python"
    }
  },
  "cells": [
    {
      "cell_type": "markdown",
      "metadata": {
        "id": "view-in-github",
        "colab_type": "text"
      },
      "source": [
        "<a href=\"https://colab.research.google.com/github/camiyuka/Java-DIO/blob/main/Normalizando_BDTitanicipynb.ipynb\" target=\"_parent\"><img src=\"https://colab.research.google.com/assets/colab-badge.svg\" alt=\"Open In Colab\"/></a>"
      ]
    },
    {
      "cell_type": "markdown",
      "source": [
        "# TADS 1 - Ciências de Dados"
      ],
      "metadata": {
        "id": "9xz5IsEJ1Pw_"
      }
    },
    {
      "cell_type": "markdown",
      "source": [
        "# 📚 Recursos para Conexão com o Banco"
      ],
      "metadata": {
        "id": "DpZwzfIFdgTf"
      }
    },
    {
      "cell_type": "code",
      "source": [
        "# Instalação de recursos\n",
        "!pip install mysql-connector\n",
        "\n",
        "# Importação de Bibliotecas\n",
        "import mysql.connector as mysql\n",
        "import pandas as pd\n",
        "import warnings"
      ],
      "metadata": {
        "id": "d06bY5ovcRaX",
        "colab": {
          "base_uri": "https://localhost:8080/"
        },
        "outputId": "71d6f653-2fa5-4832-892e-b280b7754a93"
      },
      "execution_count": null,
      "outputs": [
        {
          "output_type": "stream",
          "name": "stdout",
          "text": [
            "Looking in indexes: https://pypi.org/simple, https://us-python.pkg.dev/colab-wheels/public/simple/\n",
            "Requirement already satisfied: mysql-connector in /usr/local/lib/python3.10/dist-packages (2.2.9)\n"
          ]
        }
      ]
    },
    {
      "cell_type": "code",
      "source": [
        "# Conexão com o banco de dados\n",
        "def conectar():\n",
        "  return mysql.connect(\n",
        "    host=\"162.241.60.234\",\n",
        "    user=\"aapmse05_ads\",\n",
        "    password=\"el_modelo\",\n",
        "    database=\"aapmse05_ads\"\n",
        ")"
      ],
      "metadata": {
        "id": "pSDfW41KdUzz"
      },
      "execution_count": null,
      "outputs": []
    },
    {
      "cell_type": "markdown",
      "source": [
        "# 📋 Mostrando todas as tabelas no BD\n",
        "\n",
        "\n",
        "\n"
      ],
      "metadata": {
        "id": "rA-Sq2vrnQOl"
      }
    },
    {
      "cell_type": "code",
      "source": [
        "conn = conectar();\n",
        "cursor=conn.cursor();\n",
        "\n",
        "cursor.execute(\"show tables\");\n",
        "result = cursor.fetchall();\n",
        "for i in result:\n",
        "  print(i);"
      ],
      "metadata": {
        "id": "KSd2l39JnT8U",
        "colab": {
          "base_uri": "https://localhost:8080/"
        },
        "outputId": "4766dc05-6b8e-4a58-babe-75a01610a00d"
      },
      "execution_count": null,
      "outputs": [
        {
          "output_type": "stream",
          "name": "stdout",
          "text": [
            "('ADS_BOATS',)\n",
            "('ADS_BODIES',)\n",
            "('ADS_CABINS',)\n",
            "('ADS_CABINS_TICKETS',)\n",
            "('ADS_PASSENGERS',)\n",
            "('ADS_PASSENGERS_BOATS',)\n",
            "('ADS_TICKETS',)\n",
            "('passageiro',)\n",
            "('passengers',)\n"
          ]
        }
      ]
    },
    {
      "cell_type": "markdown",
      "source": [
        "#  🛠  Criando as tabelas (DDL)\n"
      ],
      "metadata": {
        "id": "x-0jqMNe4OBH"
      }
    },
    {
      "cell_type": "code",
      "source": [
        "conn = conectar();\n",
        "cursor=conn.cursor();\n",
        "\n",
        "query = \"\"\" CREATE TABLE ADS_TICKETS(\n",
        "\tid_ticket int primary key,\n",
        "\tticket varchar(40) not null unique,\n",
        "\tembarked varchar(1),\n",
        "\tfare float,\n",
        "\ttype_class int not null\n",
        ");\"\"\"\n",
        "cursor.execute(query);"
      ],
      "metadata": {
        "id": "wyekWAH5DWo6"
      },
      "execution_count": null,
      "outputs": []
    },
    {
      "cell_type": "code",
      "source": [
        "conn = conectar();\n",
        "cursor=conn.cursor();\n",
        "\n",
        "query = \"\"\" CREATE TABLE ADS_PASSENGERS(\n",
        "\tid_passenger int primary key,\n",
        "\tid_ticket int,\n",
        "\tforeign key (id_ticket) references ADS_TICKETS(id_ticket),\n",
        "\tfirst_name varchar(255) not null,\n",
        "\tlast_name varchar(255) not null,\n",
        "\ttitle varchar(4) not null,\n",
        "\tsex varchar(20) not null,\n",
        "\tage float,\n",
        "\tnum_parents_children int not null,\n",
        "\tnum_siblings_spouses int not null,\n",
        "  home_destination varchar(200),\n",
        "\tsurvived boolean not null\n",
        ");\n",
        "\"\"\"\n",
        "cursor.execute(query);"
      ],
      "metadata": {
        "id": "Axthu_8Ob3v_"
      },
      "execution_count": null,
      "outputs": []
    },
    {
      "cell_type": "code",
      "source": [
        "conn = conectar();\n",
        "cursor=conn.cursor();\n",
        "\n",
        "query = \"\"\" CREATE TABLE ADS_BODIES(\n",
        " \tid_passenger int,\n",
        " \tbody int unique, --\n",
        " \tprimary key (id_passenger),\n",
        " \tforeign key (id_passenger) references ADS_PASSENGERS(id_passenger)\n",
        ");\n",
        "\"\"\"\n",
        "cursor.execute(query);"
      ],
      "metadata": {
        "id": "s3b4JUhfeq2Z"
      },
      "execution_count": null,
      "outputs": []
    },
    {
      "cell_type": "code",
      "source": [
        "conn = conectar();\n",
        "cursor=conn.cursor();\n",
        "\n",
        "query = \"\"\" CREATE TABLE ADS_CABINS_TICKETS(\n",
        "  \tid_ticket int,\n",
        "  \tid_cabin int,\n",
        "  \tprimary key (id_ticket , id_cabin),\n",
        "  \tforeign key (id_ticket) references ADS_TICKETS(id_ticket),\n",
        "  \tforeign key (id_cabin) references ADS_CABINS(id_cabin)\n",
        ");\n",
        "\"\"\"\n",
        "cursor.execute(query);"
      ],
      "metadata": {
        "id": "YI68xPJ7l8y8"
      },
      "execution_count": null,
      "outputs": []
    },
    {
      "cell_type": "code",
      "source": [
        "conn = conectar();\n",
        "cursor=conn.cursor();\n",
        "\n",
        "query = \"\"\" CREATE TABLE ADS_CABINS(\n",
        "\tid_cabin int primary key,\n",
        "\tcabin varchar(20)\n",
        ");\n",
        "\"\"\"\n",
        "cursor.execute(query);"
      ],
      "metadata": {
        "id": "ijjTdv_-f0uf"
      },
      "execution_count": null,
      "outputs": []
    },
    {
      "cell_type": "code",
      "source": [
        "conn = conectar();\n",
        "cursor=conn.cursor();\n",
        "\n",
        "query = \"\"\" CREATE TABLE ADS_BOATS(\n",
        "  \tid_boat int primary key,\n",
        "  \tboat varchar(2)\n",
        ");\n",
        "\"\"\"\n",
        "cursor.execute(query);"
      ],
      "metadata": {
        "id": "KMq5BP49gENj"
      },
      "execution_count": null,
      "outputs": []
    },
    {
      "cell_type": "code",
      "source": [
        "conn = conectar();\n",
        "cursor=conn.cursor();\n",
        "\n",
        "query = \"\"\" CREATE TABLE ADS_PASSENGERS_BOATS(\n",
        "  \tid_passenger int,\n",
        "  \tid_boat int,\n",
        "  \tprimary key (id_passenger, id_boat),\n",
        "  \tforeign key (id_passenger) references ADS_PASSENGERS(id_passenger),\n",
        "  \tforeign key (id_boat) references ADS_BOATS(id_boat)\n",
        ");\n",
        "\"\"\"\n",
        "cursor.execute(query);"
      ],
      "metadata": {
        "id": "f8R_eh_HgUnY"
      },
      "execution_count": null,
      "outputs": []
    },
    {
      "cell_type": "code",
      "source": [
        "conn = conectar();\n",
        "cursor=conn.cursor();\n",
        "\n",
        "query = \"\"\"\n",
        "ALTER TABLE ADS_BOATS MODIFY boat varchar(2) NOT NULL;\n",
        "\n",
        "\"\"\"\n",
        "cursor.execute(query);"
      ],
      "metadata": {
        "id": "Z5205ikVy--2"
      },
      "execution_count": null,
      "outputs": []
    },
    {
      "cell_type": "markdown",
      "source": [
        "# Verificando quais tabelas estão preenchidas (DML)"
      ],
      "metadata": {
        "id": "mpkKviGfnYSc"
      }
    },
    {
      "cell_type": "code",
      "source": [
        "conn = conectar();\n",
        "warnings.filterwarnings('ignore');\n",
        "query = \"SELECT * FROM ADS_PASSENGERS\"\n",
        "\n",
        "df = pd.read_sql(query,conn);\n",
        "\n",
        "df"
      ],
      "metadata": {
        "id": "Kc0vePpKniJ0"
      },
      "execution_count": null,
      "outputs": []
    },
    {
      "cell_type": "code",
      "source": [
        "conn = conectar();\n",
        "warnings.filterwarnings('ignore');\n",
        "query = \"SELECT * FROM ADS_BODIES\"\n",
        "df = pd.read_sql(query,conn);\n",
        "df\n",
        "\n"
      ],
      "metadata": {
        "id": "UmJTRd_un-qj"
      },
      "execution_count": null,
      "outputs": []
    },
    {
      "cell_type": "code",
      "source": [
        "conn = conectar();\n",
        "warnings.filterwarnings('ignore');\n",
        "query = \"SELECT * FROM ADS_TICKETS\"\n",
        "df = pd.read_sql(query,conn);\n",
        "df"
      ],
      "metadata": {
        "id": "nwYXUzPUoJjK"
      },
      "execution_count": null,
      "outputs": []
    },
    {
      "cell_type": "code",
      "source": [
        "conn = conectar();\n",
        "warnings.filterwarnings('ignore');\n",
        "query = \"SELECT * FROM ADS_CABINS\"\n",
        "df = pd.read_sql(query,conn);\n",
        "df"
      ],
      "metadata": {
        "id": "nSNX4S66oPR7"
      },
      "execution_count": null,
      "outputs": []
    },
    {
      "cell_type": "code",
      "source": [
        "conn = conectar();\n",
        "warnings.filterwarnings('ignore');\n",
        "query = \"SELECT * FROM ADS_CABINS_TICKETS\"\n",
        "df = pd.read_sql(query,conn);\n",
        "df"
      ],
      "metadata": {
        "id": "YcZr4x4Xoa1G"
      },
      "execution_count": null,
      "outputs": []
    },
    {
      "cell_type": "code",
      "source": [
        "conn = conectar();\n",
        "warnings.filterwarnings('ignore');\n",
        "query = \"SELECT * FROM ADS_PASSENGERS_BOATS\"\n",
        "df = pd.read_sql(query,conn);\n",
        "df"
      ],
      "metadata": {
        "id": "lSByu2eOojQW",
        "colab": {
          "base_uri": "https://localhost:8080/",
          "height": 423
        },
        "outputId": "8fdc2a58-13a6-4952-c199-3ec347eb48c5"
      },
      "execution_count": null,
      "outputs": [
        {
          "output_type": "execute_result",
          "data": {
            "text/plain": [
              "     id_passenger  id_boat\n",
              "0             100        1\n",
              "1             101        1\n",
              "2             118        1\n",
              "3             257        1\n",
              "4             281        1\n",
              "..            ...      ...\n",
              "492           924       20\n",
              "493          1061       20\n",
              "494          1078       20\n",
              "495          1123       20\n",
              "496          1124       20\n",
              "\n",
              "[497 rows x 2 columns]"
            ],
            "text/html": [
              "\n",
              "  <div id=\"df-0859bece-cbda-4430-a167-0f03ce9e6920\">\n",
              "    <div class=\"colab-df-container\">\n",
              "      <div>\n",
              "<style scoped>\n",
              "    .dataframe tbody tr th:only-of-type {\n",
              "        vertical-align: middle;\n",
              "    }\n",
              "\n",
              "    .dataframe tbody tr th {\n",
              "        vertical-align: top;\n",
              "    }\n",
              "\n",
              "    .dataframe thead th {\n",
              "        text-align: right;\n",
              "    }\n",
              "</style>\n",
              "<table border=\"1\" class=\"dataframe\">\n",
              "  <thead>\n",
              "    <tr style=\"text-align: right;\">\n",
              "      <th></th>\n",
              "      <th>id_passenger</th>\n",
              "      <th>id_boat</th>\n",
              "    </tr>\n",
              "  </thead>\n",
              "  <tbody>\n",
              "    <tr>\n",
              "      <th>0</th>\n",
              "      <td>100</td>\n",
              "      <td>1</td>\n",
              "    </tr>\n",
              "    <tr>\n",
              "      <th>1</th>\n",
              "      <td>101</td>\n",
              "      <td>1</td>\n",
              "    </tr>\n",
              "    <tr>\n",
              "      <th>2</th>\n",
              "      <td>118</td>\n",
              "      <td>1</td>\n",
              "    </tr>\n",
              "    <tr>\n",
              "      <th>3</th>\n",
              "      <td>257</td>\n",
              "      <td>1</td>\n",
              "    </tr>\n",
              "    <tr>\n",
              "      <th>4</th>\n",
              "      <td>281</td>\n",
              "      <td>1</td>\n",
              "    </tr>\n",
              "    <tr>\n",
              "      <th>...</th>\n",
              "      <td>...</td>\n",
              "      <td>...</td>\n",
              "    </tr>\n",
              "    <tr>\n",
              "      <th>492</th>\n",
              "      <td>924</td>\n",
              "      <td>20</td>\n",
              "    </tr>\n",
              "    <tr>\n",
              "      <th>493</th>\n",
              "      <td>1061</td>\n",
              "      <td>20</td>\n",
              "    </tr>\n",
              "    <tr>\n",
              "      <th>494</th>\n",
              "      <td>1078</td>\n",
              "      <td>20</td>\n",
              "    </tr>\n",
              "    <tr>\n",
              "      <th>495</th>\n",
              "      <td>1123</td>\n",
              "      <td>20</td>\n",
              "    </tr>\n",
              "    <tr>\n",
              "      <th>496</th>\n",
              "      <td>1124</td>\n",
              "      <td>20</td>\n",
              "    </tr>\n",
              "  </tbody>\n",
              "</table>\n",
              "<p>497 rows × 2 columns</p>\n",
              "</div>\n",
              "      <button class=\"colab-df-convert\" onclick=\"convertToInteractive('df-0859bece-cbda-4430-a167-0f03ce9e6920')\"\n",
              "              title=\"Convert this dataframe to an interactive table.\"\n",
              "              style=\"display:none;\">\n",
              "        \n",
              "  <svg xmlns=\"http://www.w3.org/2000/svg\" height=\"24px\"viewBox=\"0 0 24 24\"\n",
              "       width=\"24px\">\n",
              "    <path d=\"M0 0h24v24H0V0z\" fill=\"none\"/>\n",
              "    <path d=\"M18.56 5.44l.94 2.06.94-2.06 2.06-.94-2.06-.94-.94-2.06-.94 2.06-2.06.94zm-11 1L8.5 8.5l.94-2.06 2.06-.94-2.06-.94L8.5 2.5l-.94 2.06-2.06.94zm10 10l.94 2.06.94-2.06 2.06-.94-2.06-.94-.94-2.06-.94 2.06-2.06.94z\"/><path d=\"M17.41 7.96l-1.37-1.37c-.4-.4-.92-.59-1.43-.59-.52 0-1.04.2-1.43.59L10.3 9.45l-7.72 7.72c-.78.78-.78 2.05 0 2.83L4 21.41c.39.39.9.59 1.41.59.51 0 1.02-.2 1.41-.59l7.78-7.78 2.81-2.81c.8-.78.8-2.07 0-2.86zM5.41 20L4 18.59l7.72-7.72 1.47 1.35L5.41 20z\"/>\n",
              "  </svg>\n",
              "      </button>\n",
              "      \n",
              "  <style>\n",
              "    .colab-df-container {\n",
              "      display:flex;\n",
              "      flex-wrap:wrap;\n",
              "      gap: 12px;\n",
              "    }\n",
              "\n",
              "    .colab-df-convert {\n",
              "      background-color: #E8F0FE;\n",
              "      border: none;\n",
              "      border-radius: 50%;\n",
              "      cursor: pointer;\n",
              "      display: none;\n",
              "      fill: #1967D2;\n",
              "      height: 32px;\n",
              "      padding: 0 0 0 0;\n",
              "      width: 32px;\n",
              "    }\n",
              "\n",
              "    .colab-df-convert:hover {\n",
              "      background-color: #E2EBFA;\n",
              "      box-shadow: 0px 1px 2px rgba(60, 64, 67, 0.3), 0px 1px 3px 1px rgba(60, 64, 67, 0.15);\n",
              "      fill: #174EA6;\n",
              "    }\n",
              "\n",
              "    [theme=dark] .colab-df-convert {\n",
              "      background-color: #3B4455;\n",
              "      fill: #D2E3FC;\n",
              "    }\n",
              "\n",
              "    [theme=dark] .colab-df-convert:hover {\n",
              "      background-color: #434B5C;\n",
              "      box-shadow: 0px 1px 3px 1px rgba(0, 0, 0, 0.15);\n",
              "      filter: drop-shadow(0px 1px 2px rgba(0, 0, 0, 0.3));\n",
              "      fill: #FFFFFF;\n",
              "    }\n",
              "  </style>\n",
              "\n",
              "      <script>\n",
              "        const buttonEl =\n",
              "          document.querySelector('#df-0859bece-cbda-4430-a167-0f03ce9e6920 button.colab-df-convert');\n",
              "        buttonEl.style.display =\n",
              "          google.colab.kernel.accessAllowed ? 'block' : 'none';\n",
              "\n",
              "        async function convertToInteractive(key) {\n",
              "          const element = document.querySelector('#df-0859bece-cbda-4430-a167-0f03ce9e6920');\n",
              "          const dataTable =\n",
              "            await google.colab.kernel.invokeFunction('convertToInteractive',\n",
              "                                                     [key], {});\n",
              "          if (!dataTable) return;\n",
              "\n",
              "          const docLinkHtml = 'Like what you see? Visit the ' +\n",
              "            '<a target=\"_blank\" href=https://colab.research.google.com/notebooks/data_table.ipynb>data table notebook</a>'\n",
              "            + ' to learn more about interactive tables.';\n",
              "          element.innerHTML = '';\n",
              "          dataTable['output_type'] = 'display_data';\n",
              "          await google.colab.output.renderOutput(dataTable, element);\n",
              "          const docLink = document.createElement('div');\n",
              "          docLink.innerHTML = docLinkHtml;\n",
              "          element.appendChild(docLink);\n",
              "        }\n",
              "      </script>\n",
              "    </div>\n",
              "  </div>\n",
              "  "
            ]
          },
          "metadata": {},
          "execution_count": 13
        }
      ]
    },
    {
      "cell_type": "code",
      "source": [
        "conn = conectar();\n",
        "warnings.filterwarnings('ignore');\n",
        "query = \"SELECT * FROM ADS_BOATS\"\n",
        "df = pd.read_sql(query,conn);\n",
        "df"
      ],
      "metadata": {
        "id": "HpwACHa_or6V"
      },
      "execution_count": null,
      "outputs": []
    },
    {
      "cell_type": "code",
      "source": [
        "conn = conectar()\n",
        "warnings.filterwarnings('ignore');\n",
        "query = \"SELECT * FROM passengers \"\n",
        "df = pd.read_sql(query,conn);\n",
        "df"
      ],
      "metadata": {
        "id": "47qb8NlA1PcM"
      },
      "execution_count": null,
      "outputs": []
    },
    {
      "cell_type": "code",
      "source": [
        "# Extrair informações gerais do dataframe/tabelas em PHYTON\n",
        "df.info()"
      ],
      "metadata": {
        "id": "3Mxxaery10Y_"
      },
      "execution_count": null,
      "outputs": []
    },
    {
      "cell_type": "markdown",
      "source": [
        "# Inserindo dados (DML)"
      ],
      "metadata": {
        "id": "055prcUGo0mi"
      }
    },
    {
      "cell_type": "markdown",
      "source": [
        "Foi utilizado o método de inserção de dados via tabela do Excel para realizar a população das entidades. Além disso, conta-se com o auxílio da função `.format()` de phyton."
      ],
      "metadata": {
        "id": "Wn3-1mxRiAeP"
      }
    },
    {
      "cell_type": "code",
      "source": [
        "conn = conectar();\n",
        "dfPassengers = pd.read_excel('./tablePassenger.xlsx') # Fazer upload do arquivo fonte\n",
        "\n",
        "\n",
        "for i in range(dfPassengers.size -1):\n",
        "  cursor = conn.cursor()\n",
        "  query = \"INSERT INTO ADS_PASSENGERS (id_passenger,id_ticket,first_name,last_name,title,sex,age, num_parents_children, num_siblings_spouses,home_destination, survived) VALUES ('{id_passenger}', '{id_ticket}', '{first_name}','{last_name}','{title}','{sex}', '{age}', '{num_parents_children}', '{num_siblings_spouses}', '{home_destination}', '{survived}')\".format(id_passenger = dfPassengers['id_passengers'][i], id_ticket =dfPassengers['ticket_id'][i], first_name =dfPassengers['first_name'][i], last_name =dfPassengers['last_name'][i], title = dfPassengers['title'][i], sex= dfPassengers['sex'][i], age = dfPassengers['age'][i] , num_parents_children = dfPassengers['num_parents_childrens'][i], num_siblings_spouses = dfPassengers['num_siblings_spouses'][i], home_destination = dfPassengers['home_dest'][i], survived =  dfPassengers['survived'][i])\n",
        "  cursor.execute(query)\n",
        "conn.commit()"
      ],
      "metadata": {
        "id": "QPBarh-GpGn3"
      },
      "execution_count": null,
      "outputs": []
    },
    {
      "cell_type": "code",
      "source": [
        "conn = conectar();\n",
        "\n",
        "dfCT = pd.read_excel('./tableCabinsTicket.xlsx')\n",
        "\n",
        "for i in range(dfCT.size):\n",
        "  cursor = conn.cursor()\n",
        "  query = \"INSERT INTO ADS_CABINS_TICKETS (id_ticket,\tid_cabin) VALUES ('{id_ticket}', '{id_cabin}') \".format(id_ticket = dfCT['id_ticket'][i], id_cabin =dfCT['id_cabin'][i])\n",
        "  cursor.execute(query)\n",
        "conn.commit()"
      ],
      "metadata": {
        "id": "MCO5xeZi8lpp"
      },
      "execution_count": null,
      "outputs": []
    },
    {
      "cell_type": "code",
      "source": [
        "conn = conectar();\n",
        "dfBodies = pd.read_excel('./tableBodies.xlsx')\n",
        "\n",
        "for i in range(dfBodies.size):\n",
        "  cursor = conn.cursor()\n",
        "  query = \"INSERT ADS_BODIES (id_passenger,body) VALUES ('{id_passenger}', '{body}')\".format(id_passenger = dfBodies['id_passengers'][i], body = dfBodies['BODIES'][i])\n",
        "  cursor.execute(query)"
      ],
      "metadata": {
        "id": "jhEQtOreul0a"
      },
      "execution_count": null,
      "outputs": []
    },
    {
      "cell_type": "code",
      "source": [
        "conn = conectar();\n",
        "\n",
        "dfTicket = pd.read_excel('./tableTicket.xlsx')\n",
        "\n",
        "for i in range(dfTicket.size):\n",
        "  cursor=conn.cursor();\n",
        "  query = \"INSERT INTO ADS_TICKETS (id_ticket,ticket,embarked, fare,type_class) values ('{id_ticket}', '{ticket}','{embarked}','{fare}','{type_class}')\".format(id_ticket = dfTicket['Id'][i], ticket = dfTicket['Ticket'][i],  embarked = dfTicket['emberked'][i], fare = dfTicket['fare'][i], type_class = dfTicket['pclass'][i])\n",
        "  cursor.execute(query);\n",
        "conn.commit()"
      ],
      "metadata": {
        "id": "-iE2tuHBVbTg"
      },
      "execution_count": null,
      "outputs": []
    },
    {
      "cell_type": "code",
      "source": [
        "conn = conectar();\n",
        "\n",
        "dfTicket = pd.read_excel('./table_Passengers_boats.xls')\n",
        "\n",
        "for i in range(dfTicket.size):\n",
        "  cursor=conn.cursor();\n",
        "  query = \"INSERT INTO ADS_PASSANGERS_BOATS (id_passenger,\tid_boat) values ('{id_passenger}', '{id_boat}')\".format(id_passenger = dfTicket['id_passenger'][i], id_boat = dfTicket['id_boat'][i])\n",
        "  cursor.execute(query);\n",
        "conn.commit()"
      ],
      "metadata": {
        "id": "jL8RtDfGg9Tt"
      },
      "execution_count": null,
      "outputs": []
    },
    {
      "cell_type": "code",
      "source": [
        "conn.commit()"
      ],
      "metadata": {
        "id": "lTzwFS5FXjJn"
      },
      "execution_count": null,
      "outputs": []
    },
    {
      "cell_type": "markdown",
      "source": [
        "# 🔍 Buscas (DQL)"
      ],
      "metadata": {
        "id": "ww1-hQXryci2"
      }
    },
    {
      "cell_type": "markdown",
      "source": [
        "- Mostrando todos os mortos\n",
        "\n",
        "\n"
      ],
      "metadata": {
        "id": "m-RXnsWreZxn"
      }
    },
    {
      "cell_type": "code",
      "source": [
        "conn = conectar();\n",
        "\n",
        "warnings.filterwarnings('ignore');\n",
        "query = \"SELECT first_name, survived FROM  ADS_PASSENGERS WHERE survived = 0\"\n",
        "\n",
        "df = pd.read_sql(query, conn);\n",
        "df"
      ],
      "metadata": {
        "id": "nIpCszuVee_t"
      },
      "execution_count": null,
      "outputs": []
    },
    {
      "cell_type": "markdown",
      "source": [
        "- Buscando os corpos que foram encontrados"
      ],
      "metadata": {
        "id": "pZbhhpfdd9bR"
      }
    },
    {
      "cell_type": "code",
      "source": [
        "conn = conectar();\n",
        "warnings.filterwarnings('ignore');\n",
        "query = \"SELECT first_name, survived, body FROM  ADS_PASSENGERS INNER JOIN ADS_BODIES USING(id_passenger) WHERE survived = 0 \"\n",
        "\n",
        "df = pd.read_sql(query,conn);\n",
        "\n",
        "df"
      ],
      "metadata": {
        "id": "sn30Mj161kwS"
      },
      "execution_count": null,
      "outputs": []
    },
    {
      "cell_type": "markdown",
      "source": [
        "- Mostrando quais falecidos tiveram o corpo encontrado ou não\n",
        "\n",
        "\n",
        "\n",
        "\n",
        "\n"
      ],
      "metadata": {
        "id": "AtRv-TJsg5Dp"
      }
    },
    {
      "cell_type": "code",
      "source": [
        "conn = conectar();\n",
        "warnings.filterwarnings('ignore');\n",
        "query = \"SELECT first_name, survived, body FROM  ADS_PASSENGERS LEFT JOIN ADS_BODIES USING(id_passenger) WHERE survived = 0 \"\n",
        "\n",
        "df = pd.read_sql(query,conn);\n",
        "\n",
        "df"
      ],
      "metadata": {
        "id": "KYaVyFHCp5zj"
      },
      "execution_count": null,
      "outputs": []
    },
    {
      "cell_type": "markdown",
      "source": [
        "- Mostrando os tickets de cada passageiro"
      ],
      "metadata": {
        "id": "y69vcuEMe-dr"
      }
    },
    {
      "cell_type": "code",
      "source": [
        "conn = conectar();\n",
        "warnings.filterwarnings('ignore');\n",
        "query = \"SELECT title, first_name, last_name,  ticket FROM  ADS_PASSENGERS INNER JOIN ADS_TICKETS USING(id_ticket) order by last_name \"\n",
        "\n",
        "df = pd.read_sql(query,conn);\n",
        "\n",
        "df"
      ],
      "metadata": {
        "id": "2Opptl9CfIRy"
      },
      "execution_count": null,
      "outputs": []
    },
    {
      "cell_type": "markdown",
      "source": [
        "- Mostrando o ticket de um passageiro específico\n",
        "\n"
      ],
      "metadata": {
        "id": "buY4uwTkgQOi"
      }
    },
    {
      "cell_type": "code",
      "source": [
        "conn = conectar();\n",
        "warnings.filterwarnings('ignore');\n",
        "query = \"SELECT title, first_name, last_name,  ticket FROM  ADS_PASSENGERS INNER JOIN ADS_TICKETS USING(id_ticket) where id_passenger = 4 order by last_name \"\n",
        "\n",
        "df = pd.read_sql(query,conn);\n",
        "\n",
        "df"
      ],
      "metadata": {
        "id": "nWko90I8fmFE"
      },
      "execution_count": null,
      "outputs": []
    },
    {
      "cell_type": "markdown",
      "source": [
        "- Mostrando a cabine e o ticket de cada passageiro"
      ],
      "metadata": {
        "id": "W-C4ib-Nf36L"
      }
    },
    {
      "cell_type": "code",
      "source": [
        "conn = conectar();\n",
        "warnings.filterwarnings('ignore');\n",
        "query = \"SELECT type_class, last_name, first_name, ticket, cabin FROM (ADS_PASSENGERS INNER JOIN ADS_TICKETS USING(id_ticket)) LEFT JOIN (ADS_CABINS_TICKETS INNER JOIN ADS_CABINS USING (id_cabin)) USING(id_ticket) \"\n",
        "\n",
        "df = pd.read_sql(query,conn);\n",
        "\n",
        "df"
      ],
      "metadata": {
        "id": "aL_K5HdOBsHa"
      },
      "execution_count": null,
      "outputs": []
    },
    {
      "cell_type": "markdown",
      "source": [
        "- Mostrando apenas os passageiros que possuem botes"
      ],
      "metadata": {
        "id": "fA6hn7oIjpPh"
      }
    },
    {
      "cell_type": "code",
      "source": [
        "conn = conectar();\n",
        "warnings.filterwarnings('ignore');\n",
        "query = \"SELECT distinct last_name, title, first_name  FROM ADS_PASSENGERS INNER JOIN ADS_PASSENGERS_BOATS USING (id_passenger) INNER JOIN ADS_BOATS USING (id_boat) \"\n",
        "\n",
        "df = pd.read_sql(query,conn);\n",
        "\n",
        "df"
      ],
      "metadata": {
        "id": "H8-lxDUcjuBl"
      },
      "execution_count": null,
      "outputs": []
    },
    {
      "cell_type": "markdown",
      "source": [
        "- Mostrando campos que começam com a palavra E"
      ],
      "metadata": {
        "id": "0Xbmw6SIogND"
      }
    },
    {
      "cell_type": "code",
      "source": [
        "conn = conectar();\n",
        "warnings.filterwarnings('ignore');\n",
        "query = \"SELECT last_name, title, first_name  FROM ADS_PASSENGERS INNER JOIN ADS_PASSENGERS_BOATS USING (id_passenger) INNER JOIN ADS_BOATS USING (id_boat)  WHERE first_name LIKE 'E%' \"\n",
        "\n",
        "df = pd.read_sql(query,conn);\n",
        "df"
      ],
      "metadata": {
        "id": "u2EpDNvRoju3"
      },
      "execution_count": null,
      "outputs": []
    },
    {
      "cell_type": "markdown",
      "source": [
        "- Mostrando os botes dos passageiros"
      ],
      "metadata": {
        "id": "PVeqGslUpKRQ"
      }
    },
    {
      "cell_type": "code",
      "source": [
        "conn = conectar();\n",
        "warnings.filterwarnings('ignore');\n",
        "query = \"SELECT last_name, title, first_name, boat  FROM ADS_PASSENGERS INNER JOIN ADS_PASSENGERS_BOATS USING (id_passenger) INNER JOIN ADS_BOATS USING (id_boat) \"\n",
        "\n",
        "df = pd.read_sql(query,conn);\n",
        "df"
      ],
      "metadata": {
        "id": "yJdbfE5OpJqi"
      },
      "execution_count": null,
      "outputs": []
    },
    {
      "cell_type": "markdown",
      "source": [
        "# 🔍 BUSCAS - Gerando uma tabela única"
      ],
      "metadata": {
        "id": "8OmwGDpki-wR"
      }
    },
    {
      "cell_type": "markdown",
      "source": [
        "###Código Completo"
      ],
      "metadata": {
        "id": "wru3sMoYlyNT"
      }
    },
    {
      "cell_type": "markdown",
      "source": [
        "**Mostrandos as colunas na ordem original**"
      ],
      "metadata": {
        "id": "-vuqAc--osWY"
      }
    },
    {
      "cell_type": "code",
      "source": [
        "conn = conectar();\n",
        "warnings.filterwarnings('ignore');\n",
        "query = \"SELECT id_passenger,type_class, survived, last_name, title,first_name, sex, age, num_siblings_spouses,num_parents_children, ticket, fare, cabin, embarked, body, boat, home_destination FROM ((((ADS_BODIES RIGHT JOIN ADS_PASSENGERS USING (id_passenger)) INNER JOIN ADS_TICKETS USING(id_ticket)) LEFT JOIN ADS_CABINS_TICKETS USING (id_ticket)) LEFT JOIN ADS_CABINS USING(id_cabin)) LEFT JOIN (ADS_PASSENGERS_BOATS INNER JOIN ADS_BOATS USING (id_boat)) USING (id_passenger) \"\n",
        "\n",
        "df = pd.read_sql(query,conn);\n",
        "\n",
        "df"
      ],
      "metadata": {
        "id": "6lRXTK0pl2wb",
        "colab": {
          "base_uri": "https://localhost:8080/",
          "height": 1194
        },
        "outputId": "c3e53593-2dfb-4ddc-c75e-a770e2736d5c"
      },
      "execution_count": null,
      "outputs": [
        {
          "output_type": "execute_result",
          "data": {
            "text/plain": [
              "      id_passenger  type_class  survived  last_name title  \\\n",
              "0                1           1         1      Allen  Miss   \n",
              "1                1           1         1      Allen  Miss   \n",
              "2              181           1         1   Kreuchen  Miss   \n",
              "3              181           1         1   Kreuchen  Miss   \n",
              "4              194           1         1     Madill  Miss   \n",
              "...            ...         ...       ...        ...   ...   \n",
              "1457          1305           3         0     Zabour  Miss   \n",
              "1458          1306           3         0     Zabour  Miss   \n",
              "1459          1307           3         0   Zakarian    Mr   \n",
              "1460          1308           3         0   Zakarian    Mr   \n",
              "1461          1309           3         0  Zimmerman    Mr   \n",
              "\n",
              "               first_name     sex   age  num_siblings_spouses  \\\n",
              "0        Elisabeth Walton  female  29.0                     0   \n",
              "1        Elisabeth Walton  female  29.0                     0   \n",
              "2                  Emilie  female  39.0                     0   \n",
              "3                  Emilie  female  39.0                     0   \n",
              "4     Georgette Alexandra  female  15.0                     0   \n",
              "...                   ...     ...   ...                   ...   \n",
              "1457               Hileni  female  14.5                     1   \n",
              "1458              Thamine  female   0.0                     1   \n",
              "1459          Mapriededer    male  26.5                     0   \n",
              "1460                Ortin    male  27.0                     0   \n",
              "1461                  Leo    male  29.0                     0   \n",
              "\n",
              "      num_parents_children  ticket      fare cabin embarked   body  boat  \\\n",
              "0                        0   24160  211.3370    B3        S    NaN     2   \n",
              "1                        0   24160  211.3370    B5        S    NaN     2   \n",
              "2                        0   24160  211.3370    B3        S    NaN     2   \n",
              "3                        0   24160  211.3370    B5        S    NaN     2   \n",
              "4                        1   24160  211.3370    B3        S    NaN     2   \n",
              "...                    ...     ...       ...   ...      ...    ...   ...   \n",
              "1457                     0    2665   14.4542  None        C  328.0  None   \n",
              "1458                     0    2665   14.4542  None        C    NaN  None   \n",
              "1459                     0    2656    7.2250  None        C  304.0  None   \n",
              "1460                     0    2670    7.2250  None        C    NaN  None   \n",
              "1461                     0  315082    7.8750  None        S    NaN  None   \n",
              "\n",
              "     home_destination  \n",
              "0        St Louis, MO  \n",
              "1        St Louis, MO  \n",
              "2        New York, NY  \n",
              "3        New York, NY  \n",
              "4          Duluth, MN  \n",
              "...               ...  \n",
              "1457              nan  \n",
              "1458              nan  \n",
              "1459              nan  \n",
              "1460              nan  \n",
              "1461              nan  \n",
              "\n",
              "[1462 rows x 17 columns]"
            ],
            "text/html": [
              "\n",
              "  <div id=\"df-e5e6c301-a7d3-465d-a87e-415ddbf55fd3\">\n",
              "    <div class=\"colab-df-container\">\n",
              "      <div>\n",
              "<style scoped>\n",
              "    .dataframe tbody tr th:only-of-type {\n",
              "        vertical-align: middle;\n",
              "    }\n",
              "\n",
              "    .dataframe tbody tr th {\n",
              "        vertical-align: top;\n",
              "    }\n",
              "\n",
              "    .dataframe thead th {\n",
              "        text-align: right;\n",
              "    }\n",
              "</style>\n",
              "<table border=\"1\" class=\"dataframe\">\n",
              "  <thead>\n",
              "    <tr style=\"text-align: right;\">\n",
              "      <th></th>\n",
              "      <th>id_passenger</th>\n",
              "      <th>type_class</th>\n",
              "      <th>survived</th>\n",
              "      <th>last_name</th>\n",
              "      <th>title</th>\n",
              "      <th>first_name</th>\n",
              "      <th>sex</th>\n",
              "      <th>age</th>\n",
              "      <th>num_siblings_spouses</th>\n",
              "      <th>num_parents_children</th>\n",
              "      <th>ticket</th>\n",
              "      <th>fare</th>\n",
              "      <th>cabin</th>\n",
              "      <th>embarked</th>\n",
              "      <th>body</th>\n",
              "      <th>boat</th>\n",
              "      <th>home_destination</th>\n",
              "    </tr>\n",
              "  </thead>\n",
              "  <tbody>\n",
              "    <tr>\n",
              "      <th>0</th>\n",
              "      <td>1</td>\n",
              "      <td>1</td>\n",
              "      <td>1</td>\n",
              "      <td>Allen</td>\n",
              "      <td>Miss</td>\n",
              "      <td>Elisabeth Walton</td>\n",
              "      <td>female</td>\n",
              "      <td>29.0</td>\n",
              "      <td>0</td>\n",
              "      <td>0</td>\n",
              "      <td>24160</td>\n",
              "      <td>211.3370</td>\n",
              "      <td>B3</td>\n",
              "      <td>S</td>\n",
              "      <td>NaN</td>\n",
              "      <td>2</td>\n",
              "      <td>St Louis, MO</td>\n",
              "    </tr>\n",
              "    <tr>\n",
              "      <th>1</th>\n",
              "      <td>1</td>\n",
              "      <td>1</td>\n",
              "      <td>1</td>\n",
              "      <td>Allen</td>\n",
              "      <td>Miss</td>\n",
              "      <td>Elisabeth Walton</td>\n",
              "      <td>female</td>\n",
              "      <td>29.0</td>\n",
              "      <td>0</td>\n",
              "      <td>0</td>\n",
              "      <td>24160</td>\n",
              "      <td>211.3370</td>\n",
              "      <td>B5</td>\n",
              "      <td>S</td>\n",
              "      <td>NaN</td>\n",
              "      <td>2</td>\n",
              "      <td>St Louis, MO</td>\n",
              "    </tr>\n",
              "    <tr>\n",
              "      <th>2</th>\n",
              "      <td>181</td>\n",
              "      <td>1</td>\n",
              "      <td>1</td>\n",
              "      <td>Kreuchen</td>\n",
              "      <td>Miss</td>\n",
              "      <td>Emilie</td>\n",
              "      <td>female</td>\n",
              "      <td>39.0</td>\n",
              "      <td>0</td>\n",
              "      <td>0</td>\n",
              "      <td>24160</td>\n",
              "      <td>211.3370</td>\n",
              "      <td>B3</td>\n",
              "      <td>S</td>\n",
              "      <td>NaN</td>\n",
              "      <td>2</td>\n",
              "      <td>New York, NY</td>\n",
              "    </tr>\n",
              "    <tr>\n",
              "      <th>3</th>\n",
              "      <td>181</td>\n",
              "      <td>1</td>\n",
              "      <td>1</td>\n",
              "      <td>Kreuchen</td>\n",
              "      <td>Miss</td>\n",
              "      <td>Emilie</td>\n",
              "      <td>female</td>\n",
              "      <td>39.0</td>\n",
              "      <td>0</td>\n",
              "      <td>0</td>\n",
              "      <td>24160</td>\n",
              "      <td>211.3370</td>\n",
              "      <td>B5</td>\n",
              "      <td>S</td>\n",
              "      <td>NaN</td>\n",
              "      <td>2</td>\n",
              "      <td>New York, NY</td>\n",
              "    </tr>\n",
              "    <tr>\n",
              "      <th>4</th>\n",
              "      <td>194</td>\n",
              "      <td>1</td>\n",
              "      <td>1</td>\n",
              "      <td>Madill</td>\n",
              "      <td>Miss</td>\n",
              "      <td>Georgette Alexandra</td>\n",
              "      <td>female</td>\n",
              "      <td>15.0</td>\n",
              "      <td>0</td>\n",
              "      <td>1</td>\n",
              "      <td>24160</td>\n",
              "      <td>211.3370</td>\n",
              "      <td>B3</td>\n",
              "      <td>S</td>\n",
              "      <td>NaN</td>\n",
              "      <td>2</td>\n",
              "      <td>Duluth, MN</td>\n",
              "    </tr>\n",
              "    <tr>\n",
              "      <th>...</th>\n",
              "      <td>...</td>\n",
              "      <td>...</td>\n",
              "      <td>...</td>\n",
              "      <td>...</td>\n",
              "      <td>...</td>\n",
              "      <td>...</td>\n",
              "      <td>...</td>\n",
              "      <td>...</td>\n",
              "      <td>...</td>\n",
              "      <td>...</td>\n",
              "      <td>...</td>\n",
              "      <td>...</td>\n",
              "      <td>...</td>\n",
              "      <td>...</td>\n",
              "      <td>...</td>\n",
              "      <td>...</td>\n",
              "      <td>...</td>\n",
              "    </tr>\n",
              "    <tr>\n",
              "      <th>1457</th>\n",
              "      <td>1305</td>\n",
              "      <td>3</td>\n",
              "      <td>0</td>\n",
              "      <td>Zabour</td>\n",
              "      <td>Miss</td>\n",
              "      <td>Hileni</td>\n",
              "      <td>female</td>\n",
              "      <td>14.5</td>\n",
              "      <td>1</td>\n",
              "      <td>0</td>\n",
              "      <td>2665</td>\n",
              "      <td>14.4542</td>\n",
              "      <td>None</td>\n",
              "      <td>C</td>\n",
              "      <td>328.0</td>\n",
              "      <td>None</td>\n",
              "      <td>nan</td>\n",
              "    </tr>\n",
              "    <tr>\n",
              "      <th>1458</th>\n",
              "      <td>1306</td>\n",
              "      <td>3</td>\n",
              "      <td>0</td>\n",
              "      <td>Zabour</td>\n",
              "      <td>Miss</td>\n",
              "      <td>Thamine</td>\n",
              "      <td>female</td>\n",
              "      <td>0.0</td>\n",
              "      <td>1</td>\n",
              "      <td>0</td>\n",
              "      <td>2665</td>\n",
              "      <td>14.4542</td>\n",
              "      <td>None</td>\n",
              "      <td>C</td>\n",
              "      <td>NaN</td>\n",
              "      <td>None</td>\n",
              "      <td>nan</td>\n",
              "    </tr>\n",
              "    <tr>\n",
              "      <th>1459</th>\n",
              "      <td>1307</td>\n",
              "      <td>3</td>\n",
              "      <td>0</td>\n",
              "      <td>Zakarian</td>\n",
              "      <td>Mr</td>\n",
              "      <td>Mapriededer</td>\n",
              "      <td>male</td>\n",
              "      <td>26.5</td>\n",
              "      <td>0</td>\n",
              "      <td>0</td>\n",
              "      <td>2656</td>\n",
              "      <td>7.2250</td>\n",
              "      <td>None</td>\n",
              "      <td>C</td>\n",
              "      <td>304.0</td>\n",
              "      <td>None</td>\n",
              "      <td>nan</td>\n",
              "    </tr>\n",
              "    <tr>\n",
              "      <th>1460</th>\n",
              "      <td>1308</td>\n",
              "      <td>3</td>\n",
              "      <td>0</td>\n",
              "      <td>Zakarian</td>\n",
              "      <td>Mr</td>\n",
              "      <td>Ortin</td>\n",
              "      <td>male</td>\n",
              "      <td>27.0</td>\n",
              "      <td>0</td>\n",
              "      <td>0</td>\n",
              "      <td>2670</td>\n",
              "      <td>7.2250</td>\n",
              "      <td>None</td>\n",
              "      <td>C</td>\n",
              "      <td>NaN</td>\n",
              "      <td>None</td>\n",
              "      <td>nan</td>\n",
              "    </tr>\n",
              "    <tr>\n",
              "      <th>1461</th>\n",
              "      <td>1309</td>\n",
              "      <td>3</td>\n",
              "      <td>0</td>\n",
              "      <td>Zimmerman</td>\n",
              "      <td>Mr</td>\n",
              "      <td>Leo</td>\n",
              "      <td>male</td>\n",
              "      <td>29.0</td>\n",
              "      <td>0</td>\n",
              "      <td>0</td>\n",
              "      <td>315082</td>\n",
              "      <td>7.8750</td>\n",
              "      <td>None</td>\n",
              "      <td>S</td>\n",
              "      <td>NaN</td>\n",
              "      <td>None</td>\n",
              "      <td>nan</td>\n",
              "    </tr>\n",
              "  </tbody>\n",
              "</table>\n",
              "<p>1462 rows × 17 columns</p>\n",
              "</div>\n",
              "      <button class=\"colab-df-convert\" onclick=\"convertToInteractive('df-e5e6c301-a7d3-465d-a87e-415ddbf55fd3')\"\n",
              "              title=\"Convert this dataframe to an interactive table.\"\n",
              "              style=\"display:none;\">\n",
              "        \n",
              "  <svg xmlns=\"http://www.w3.org/2000/svg\" height=\"24px\"viewBox=\"0 0 24 24\"\n",
              "       width=\"24px\">\n",
              "    <path d=\"M0 0h24v24H0V0z\" fill=\"none\"/>\n",
              "    <path d=\"M18.56 5.44l.94 2.06.94-2.06 2.06-.94-2.06-.94-.94-2.06-.94 2.06-2.06.94zm-11 1L8.5 8.5l.94-2.06 2.06-.94-2.06-.94L8.5 2.5l-.94 2.06-2.06.94zm10 10l.94 2.06.94-2.06 2.06-.94-2.06-.94-.94-2.06-.94 2.06-2.06.94z\"/><path d=\"M17.41 7.96l-1.37-1.37c-.4-.4-.92-.59-1.43-.59-.52 0-1.04.2-1.43.59L10.3 9.45l-7.72 7.72c-.78.78-.78 2.05 0 2.83L4 21.41c.39.39.9.59 1.41.59.51 0 1.02-.2 1.41-.59l7.78-7.78 2.81-2.81c.8-.78.8-2.07 0-2.86zM5.41 20L4 18.59l7.72-7.72 1.47 1.35L5.41 20z\"/>\n",
              "  </svg>\n",
              "      </button>\n",
              "      \n",
              "  <style>\n",
              "    .colab-df-container {\n",
              "      display:flex;\n",
              "      flex-wrap:wrap;\n",
              "      gap: 12px;\n",
              "    }\n",
              "\n",
              "    .colab-df-convert {\n",
              "      background-color: #E8F0FE;\n",
              "      border: none;\n",
              "      border-radius: 50%;\n",
              "      cursor: pointer;\n",
              "      display: none;\n",
              "      fill: #1967D2;\n",
              "      height: 32px;\n",
              "      padding: 0 0 0 0;\n",
              "      width: 32px;\n",
              "    }\n",
              "\n",
              "    .colab-df-convert:hover {\n",
              "      background-color: #E2EBFA;\n",
              "      box-shadow: 0px 1px 2px rgba(60, 64, 67, 0.3), 0px 1px 3px 1px rgba(60, 64, 67, 0.15);\n",
              "      fill: #174EA6;\n",
              "    }\n",
              "\n",
              "    [theme=dark] .colab-df-convert {\n",
              "      background-color: #3B4455;\n",
              "      fill: #D2E3FC;\n",
              "    }\n",
              "\n",
              "    [theme=dark] .colab-df-convert:hover {\n",
              "      background-color: #434B5C;\n",
              "      box-shadow: 0px 1px 3px 1px rgba(0, 0, 0, 0.15);\n",
              "      filter: drop-shadow(0px 1px 2px rgba(0, 0, 0, 0.3));\n",
              "      fill: #FFFFFF;\n",
              "    }\n",
              "  </style>\n",
              "\n",
              "      <script>\n",
              "        const buttonEl =\n",
              "          document.querySelector('#df-e5e6c301-a7d3-465d-a87e-415ddbf55fd3 button.colab-df-convert');\n",
              "        buttonEl.style.display =\n",
              "          google.colab.kernel.accessAllowed ? 'block' : 'none';\n",
              "\n",
              "        async function convertToInteractive(key) {\n",
              "          const element = document.querySelector('#df-e5e6c301-a7d3-465d-a87e-415ddbf55fd3');\n",
              "          const dataTable =\n",
              "            await google.colab.kernel.invokeFunction('convertToInteractive',\n",
              "                                                     [key], {});\n",
              "          if (!dataTable) return;\n",
              "\n",
              "          const docLinkHtml = 'Like what you see? Visit the ' +\n",
              "            '<a target=\"_blank\" href=https://colab.research.google.com/notebooks/data_table.ipynb>data table notebook</a>'\n",
              "            + ' to learn more about interactive tables.';\n",
              "          element.innerHTML = '';\n",
              "          dataTable['output_type'] = 'display_data';\n",
              "          await google.colab.output.renderOutput(dataTable, element);\n",
              "          const docLink = document.createElement('div');\n",
              "          docLink.innerHTML = docLinkHtml;\n",
              "          element.appendChild(docLink);\n",
              "        }\n",
              "      </script>\n",
              "    </div>\n",
              "  </div>\n",
              "  "
            ]
          },
          "metadata": {},
          "execution_count": 9
        }
      ]
    },
    {
      "cell_type": "markdown",
      "source": [
        "**Opção 2**: Juntando de acordo com os relacionamentos do DER"
      ],
      "metadata": {
        "id": "R_mPpwfeowmH"
      }
    },
    {
      "cell_type": "code",
      "source": [
        "conn = conectar();\n",
        "warnings.filterwarnings('ignore');\n",
        "query = \"SELECT * FROM (ADS_BODIES RIGHT JOIN ADS_PASSENGERS USING (id_passenger) LEFT JOIN ADS_TICKETS USING (id_ticket) LEFT JOIN ADS_CABINS_TICKETS USING(id_ticket) LEFT JOIN ADS_CABINS USING(id_cabin)) LEFT JOIN (ADS_PASSENGERS_BOATS INNER JOIN ADS_BOATS USING (id_boat)) USING (id_passenger) \"\n",
        "\n",
        "df = pd.read_sql(query,conn);\n",
        "\n",
        "df"
      ],
      "metadata": {
        "id": "uxwiwO7rnOdW"
      },
      "execution_count": null,
      "outputs": []
    },
    {
      "cell_type": "markdown",
      "source": [
        "**Opção 3**: Juntando sem separação de parênteses"
      ],
      "metadata": {
        "id": "FNzLXeU7o34f"
      }
    },
    {
      "cell_type": "code",
      "source": [
        "conn = conectar();\n",
        "warnings.filterwarnings('ignore');\n",
        "query = \"SELECT * FROM ADS_BODIES RIGHT JOIN ADS_PASSENGERS USING (id_passenger) LEFT JOIN ADS_TICKETS USING (id_ticket) LEFT JOIN ADS_CABINS_TICKETS USING(id_ticket) LEFT JOIN ADS_CABINS USING(id_cabin) LEFT JOIN ADS_PASSENGERS_BOATS USING(id_passenger) LEFT JOIN ADS_BOATS USING (id_boat)  \"\n",
        "\n",
        "df = pd.read_sql(query,conn);\n",
        "\n",
        "df"
      ],
      "metadata": {
        "id": "MJY11ktGoMKw"
      },
      "execution_count": null,
      "outputs": []
    },
    {
      "cell_type": "markdown",
      "source": [
        "### Etapas da união\n",
        "Comandos:\n",
        "- `t1 LEFT JOIN t2 USING(fk)`\n",
        "- `t1 RIGHT JOIN t2 USING (fk)`\n",
        "\n",
        "\n",
        "\n",
        "\n",
        "\n",
        "\n",
        "\n"
      ],
      "metadata": {
        "id": "wTNbih3TjVgS"
      }
    },
    {
      "cell_type": "markdown",
      "source": [
        "- Juntando tabela ADS_PASSENGERS e ADS_BODIES"
      ],
      "metadata": {
        "id": "sIoMNd7BmcDP"
      }
    },
    {
      "cell_type": "code",
      "source": [
        "conn = conectar();\n",
        "warnings.filterwarnings('ignore');\n",
        "query = \"SELECT * FROM ADS_BODIES RIGHT JOIN ADS_PASSENGERS USING (id_passenger)  \"\n",
        "\n",
        "df = pd.read_sql(query,conn);\n",
        "\n",
        "df"
      ],
      "metadata": {
        "id": "NQhC6Vmxi-h5"
      },
      "execution_count": null,
      "outputs": []
    },
    {
      "cell_type": "markdown",
      "source": [
        "- Unindo tabela ADS_BODIES, ADS_PASSENGERS, ADS_TICKETS"
      ],
      "metadata": {
        "id": "_S3_4gUujfz6"
      }
    },
    {
      "cell_type": "code",
      "source": [
        "conn = conectar();\n",
        "warnings.filterwarnings('ignore');\n",
        "query = \"SELECT * FROM (ADS_BODIES RIGHT JOIN ADS_PASSENGERS USING (id_passenger)) INNER JOIN ADS_TICKETS USING(id_ticket) \"\n",
        "\n",
        "df = pd.read_sql(query,conn);\n",
        "\n",
        "df"
      ],
      "metadata": {
        "id": "J0AWB7qCje6f"
      },
      "execution_count": null,
      "outputs": []
    },
    {
      "cell_type": "markdown",
      "source": [
        "- Juntando com ADS_CABINS_TICKETS e ADS_CABINS"
      ],
      "metadata": {
        "id": "2KTVS_88j_VG"
      }
    },
    {
      "cell_type": "code",
      "source": [
        "conn = conectar();\n",
        "warnings.filterwarnings('ignore');\n",
        "query = \"SELECT * FROM (((ADS_BODIES RIGHT JOIN ADS_PASSENGERS USING (id_passenger)) INNER JOIN ADS_TICKETS USING(id_ticket)) LEFT JOIN ADS_CABINS_TICKETS USING (id_ticket)) LEFT JOIN ADS_CABINS USING(id_cabin) \"\n",
        "\n",
        "df = pd.read_sql(query,conn);\n",
        "\n",
        "df"
      ],
      "metadata": {
        "id": "KyPNZlWtj_rn"
      },
      "execution_count": null,
      "outputs": []
    },
    {
      "cell_type": "markdown",
      "source": [
        "- Juntando com ADS_PASSENGERS_BOATS e ADS_BOATS"
      ],
      "metadata": {
        "id": "mkpYG_MylQp2"
      }
    },
    {
      "cell_type": "code",
      "source": [
        "conn = conectar();\n",
        "warnings.filterwarnings('ignore');\n",
        "query = \"SELECT * FROM ((((ADS_BODIES RIGHT JOIN ADS_PASSENGERS USING (id_passenger)) INNER JOIN ADS_TICKETS USING(id_ticket)) LEFT JOIN ADS_CABINS_TICKETS USING (id_ticket)) LEFT JOIN ADS_CABINS USING(id_cabin)) LEFT JOIN (ADS_PASSENGERS_BOATS INNER JOIN ADS_BOATS USING (id_boat)) USING (id_passenger) \"\n",
        "\n",
        "df = pd.read_sql(query,conn);\n",
        "\n",
        "df"
      ],
      "metadata": {
        "id": "oil70oF3lWCU"
      },
      "execution_count": null,
      "outputs": []
    }
  ]
}